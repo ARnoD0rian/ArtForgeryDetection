{
 "cells": [
  {
   "cell_type": "markdown",
   "metadata": {},
   "source": [
    "# Исследование алгоритма BoVW для нашей задачи"
   ]
  },
  {
   "cell_type": "code",
   "execution_count": 1,
   "metadata": {},
   "outputs": [],
   "source": [
    "import numpy as np\n",
    "from numpy.typing import NDArray\n",
    "import matplotlib.pyplot as plt\n",
    "import yaml\n",
    "\n",
    "with open('config.yaml', 'r') as config:\n",
    "    cfg = yaml.safe_load(config)"
   ]
  },
  {
   "cell_type": "code",
   "execution_count": 2,
   "metadata": {},
   "outputs": [],
   "source": [
    "from BoVW.BoVW import BoVW\n",
    "from dataset.get_pictures import DatasetOperations\n",
    "from CustomDescriptors.abstract.abstract import ABSDescriptor\n",
    "from CustomDescriptors.AkazeDescriptor.AKAZE import AKAZE\n",
    "from CustomDescriptors.OrbDescriptor.ORB import ORB\n",
    "from CustomDescriptors.ResnetDescriptor.Resnet import Resnet\n",
    "from CustomDescriptors.SiftDescriptor.SIFT import SIFT\n",
    "from helper.helper import Research, Multiprocessor"
   ]
  },
  {
   "cell_type": "code",
   "execution_count": 3,
   "metadata": {},
   "outputs": [],
   "source": [
    "from sklearn.tree import DecisionTreeClassifier\n",
    "from sklearn.ensemble import RandomForestClassifier, BaggingClassifier, GradientBoostingClassifier\n",
    "from sklearn.svm import SVC\n",
    "from sklearn.linear_model import LogisticRegression\n",
    "from sklearn.cluster import KMeans, MiniBatchKMeans, SpectralBiclustering, Birch"
   ]
  },
  {
   "cell_type": "code",
   "execution_count": 4,
   "metadata": {},
   "outputs": [],
   "source": [
    "DatasetOperations.clear()"
   ]
  },
  {
   "cell_type": "code",
   "execution_count": 4,
   "metadata": {},
   "outputs": [
    {
     "name": "stdout",
     "output_type": "stream",
     "text": [
      "скопировано 20 картинок в train\n"
     ]
    }
   ],
   "source": [
    "Research.add_train_dataset(percentage=20, scale=True, resolution=\"low\")"
   ]
  },
  {
   "cell_type": "code",
   "execution_count": 5,
   "metadata": {},
   "outputs": [
    {
     "ename": "ValueError",
     "evalue": "setting an array element with a sequence. The requested array has an inhomogeneous shape after 1 dimensions. The detected shape was (2,) + inhomogeneous part.",
     "output_type": "error",
     "traceback": [
      "\u001b[1;31m---------------------------------------------------------------------------\u001b[0m",
      "\u001b[1;31mValueError\u001b[0m                                Traceback (most recent call last)",
      "Cell \u001b[1;32mIn[5], line 4\u001b[0m\n\u001b[0;32m      1\u001b[0m Research\u001b[38;5;241m.\u001b[39msafe(\n\u001b[0;32m      2\u001b[0m     \u001b[38;5;124m\"\u001b[39m\u001b[38;5;124mtest\u001b[39m\u001b[38;5;124m\"\u001b[39m,\n\u001b[0;32m      3\u001b[0m     Research\u001b[38;5;241m.\u001b[39mtest(\n\u001b[1;32m----> 4\u001b[0m         \u001b[43mResearch\u001b[49m\u001b[38;5;241;43m.\u001b[39;49m\u001b[43mtrain\u001b[49m\u001b[43m(\u001b[49m\u001b[43mclf\u001b[49m\u001b[38;5;241;43m=\u001b[39;49m\u001b[43mBaggingClassifier\u001b[49m\u001b[43m(\u001b[49m\u001b[43m)\u001b[49m\u001b[43m,\u001b[49m\n\u001b[0;32m      5\u001b[0m \u001b[43m                       \u001b[49m\u001b[43mcluster\u001b[49m\u001b[38;5;241;43m=\u001b[39;49m\u001b[43mBirch\u001b[49m\u001b[43m(\u001b[49m\u001b[43mn_clusters\u001b[49m\u001b[38;5;241;43m=\u001b[39;49m\u001b[38;5;241;43m200\u001b[39;49m\u001b[43m)\u001b[49m\u001b[43m,\u001b[49m\n\u001b[0;32m      6\u001b[0m \u001b[43m                       \u001b[49m\u001b[43mdescriptor\u001b[49m\u001b[38;5;241;43m=\u001b[39;49m\u001b[43mORB\u001b[49m\u001b[43m(\u001b[49m\u001b[43m)\u001b[49m\u001b[43m,\u001b[49m\n\u001b[0;32m      7\u001b[0m \u001b[43m                       \u001b[49m\u001b[43mscale\u001b[49m\u001b[38;5;241;43m=\u001b[39;49m\u001b[38;5;28;43;01mTrue\u001b[39;49;00m\u001b[43m,\u001b[49m\n\u001b[0;32m      8\u001b[0m \u001b[43m                       \u001b[49m\u001b[43mnumber_words\u001b[49m\u001b[38;5;241;43m=\u001b[39;49m\u001b[38;5;241;43m200\u001b[39;49m\n\u001b[0;32m      9\u001b[0m \u001b[43m                       \u001b[49m\u001b[43m)\u001b[49m\n\u001b[0;32m     10\u001b[0m     )\n\u001b[0;32m     11\u001b[0m )\n",
      "File \u001b[1;32mc:\\home_screen\\programming\\algoritm and data structure\\ArtForgeryDetection\\src\\helper\\helper.py:44\u001b[0m, in \u001b[0;36mResearch.train\u001b[1;34m(descriptor, cluster, number_words, clf, scale)\u001b[0m\n\u001b[0;32m     35\u001b[0m bovw \u001b[38;5;241m=\u001b[39m BoVW(\n\u001b[0;32m     36\u001b[0m     descriptor\u001b[38;5;241m=\u001b[39mdescriptor,\n\u001b[0;32m     37\u001b[0m     cluster\u001b[38;5;241m=\u001b[39mcluster,\n\u001b[1;32m   (...)\u001b[0m\n\u001b[0;32m     40\u001b[0m     scale\u001b[38;5;241m=\u001b[39mscale\n\u001b[0;32m     41\u001b[0m )\n\u001b[0;32m     42\u001b[0m bovw\u001b[38;5;241m.\u001b[39madd_train_dataset(\u001b[38;5;124m\"\u001b[39m\u001b[38;5;124mdataset/train\u001b[39m\u001b[38;5;124m\"\u001b[39m)\n\u001b[1;32m---> 44\u001b[0m \u001b[43mbovw\u001b[49m\u001b[38;5;241;43m.\u001b[39;49m\u001b[43mmodel_training\u001b[49m\u001b[43m(\u001b[49m\u001b[43m)\u001b[49m\n\u001b[0;32m     46\u001b[0m \u001b[38;5;28;01mreturn\u001b[39;00m bovw\n",
      "File \u001b[1;32mc:\\home_screen\\programming\\algoritm and data structure\\ArtForgeryDetection\\src\\BoVW\\BoVW.py:56\u001b[0m, in \u001b[0;36mBoVW.model_training\u001b[1;34m(self)\u001b[0m\n\u001b[0;32m     54\u001b[0m \u001b[38;5;28;01mdef\u001b[39;00m \u001b[38;5;21mmodel_training\u001b[39m(\u001b[38;5;28mself\u001b[39m) \u001b[38;5;241m-\u001b[39m\u001b[38;5;241m>\u001b[39m \u001b[38;5;28;01mNone\u001b[39;00m:\n\u001b[0;32m     55\u001b[0m     descriptor_list \u001b[38;5;241m=\u001b[39m \u001b[38;5;28mself\u001b[39m\u001b[38;5;241m.\u001b[39m_get_descriptor_list()\n\u001b[1;32m---> 56\u001b[0m     descriptors \u001b[38;5;241m=\u001b[39m \u001b[43mnp\u001b[49m\u001b[38;5;241;43m.\u001b[39;49m\u001b[43marray\u001b[49m\u001b[43m(\u001b[49m\u001b[43mdescriptor_list\u001b[49m\u001b[43m[\u001b[49m\u001b[43m:\u001b[49m\u001b[43m]\u001b[49m\u001b[43m[\u001b[49m\u001b[38;5;241;43m1\u001b[39;49m\u001b[43m]\u001b[49m\u001b[43m,\u001b[49m\u001b[43mdtype\u001b[49m\u001b[38;5;241;43m=\u001b[39;49m\u001b[43mnp\u001b[49m\u001b[38;5;241;43m.\u001b[39;49m\u001b[43mdouble\u001b[49m\u001b[43m)\u001b[49m\n\u001b[0;32m     59\u001b[0m     \u001b[38;5;66;03m# for _, descriptor in descriptor_list[1:]:\u001b[39;00m\n\u001b[0;32m     60\u001b[0m     \u001b[38;5;66;03m#     descriptors = np.vstack((descriptors,descriptor[1]))\u001b[39;00m\n\u001b[0;32m     61\u001b[0m     \u001b[38;5;66;03m# descriptors = descriptors.astype(np.double)\u001b[39;00m\n\u001b[0;32m     63\u001b[0m     \u001b[38;5;28mself\u001b[39m\u001b[38;5;241m.\u001b[39m_code_book \u001b[38;5;241m=\u001b[39m \u001b[38;5;28mself\u001b[39m\u001b[38;5;241m.\u001b[39m_cluster\u001b[38;5;241m.\u001b[39mfit_predict(descriptors)\n",
      "\u001b[1;31mValueError\u001b[0m: setting an array element with a sequence. The requested array has an inhomogeneous shape after 1 dimensions. The detected shape was (2,) + inhomogeneous part."
     ]
    }
   ],
   "source": [
    "Research.safe(\n",
    "    \"test\",\n",
    "    Research.test(\n",
    "        Research.train(clf=BaggingClassifier(),\n",
    "                       cluster=Birch(n_clusters=200),\n",
    "                       descriptor=ORB(),\n",
    "                       scale=True,\n",
    "                       number_words=200\n",
    "                       )\n",
    "    )\n",
    ")"
   ]
  }
 ],
 "metadata": {
  "kernelspec": {
   "display_name": "Python 3",
   "language": "python",
   "name": "python3"
  },
  "language_info": {
   "codemirror_mode": {
    "name": "ipython",
    "version": 3
   },
   "file_extension": ".py",
   "mimetype": "text/x-python",
   "name": "python",
   "nbconvert_exporter": "python",
   "pygments_lexer": "ipython3",
   "version": "3.11.9"
  }
 },
 "nbformat": 4,
 "nbformat_minor": 2
}
