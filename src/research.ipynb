{
 "cells": [
  {
   "cell_type": "markdown",
   "metadata": {},
   "source": [
    "# Исследование алгоритма BoVW для нашей задачи"
   ]
  },
  {
   "cell_type": "code",
   "execution_count": 1,
   "metadata": {},
   "outputs": [],
   "source": [
    "import os\n",
    "import numpy as np\n",
    "import matplotlib.pyplot as plt\n",
    "import json"
   ]
  },
  {
   "cell_type": "code",
   "execution_count": null,
   "metadata": {},
   "outputs": [],
   "source": [
    "from dataset.get_pictures import DatasetOperations\n",
    "DatasetOperations.clear()"
   ]
  },
  {
   "cell_type": "code",
   "execution_count": 2,
   "metadata": {},
   "outputs": [],
   "source": [
    "PATH = f\"results\""
   ]
  },
  {
   "cell_type": "code",
   "execution_count": 3,
   "metadata": {},
   "outputs": [
    {
     "data": {
      "text/plain": [
       "['GradientBoosting_KMeans_AKAZE.json',\n",
       " 'GradientBoosting_KMeans_ORB.json',\n",
       " 'GradientBoosting_KMeans_Resnet.json',\n",
       " 'GradientBoosting_KMeans_SIFT.json',\n",
       " 'GradientBoosting_MiniBatchKMeans_AKAZE.json',\n",
       " 'GradientBoosting_MiniBatchKMeans_ORB.json',\n",
       " 'GradientBoosting_MiniBatchKMeans_Resnet.json',\n",
       " 'GradientBoosting_MiniBatchKMeans_SIFT.json',\n",
       " 'LogisticRegression_KMeans_AKAZE.json',\n",
       " 'LogisticRegression_KMeans_ORB.json',\n",
       " 'LogisticRegression_KMeans_Resnet.json',\n",
       " 'LogisticRegression_KMeans_SIFT.json',\n",
       " 'LogisticRegression_MiniBatchKMeans_AKAZE.json',\n",
       " 'LogisticRegression_MiniBatchKMeans_ORB.json',\n",
       " 'LogisticRegression_MiniBatchKMeans_Resnet.json',\n",
       " 'LogisticRegression_MiniBatchKMeans_SIFT.json',\n",
       " 'SVM_KMeans_AKAZE.json',\n",
       " 'SVM_KMeans_ORB.json',\n",
       " 'SVM_KMeans_Resnet.json',\n",
       " 'SVM_KMeans_SIFT.json',\n",
       " 'SVM_MiniBatchKMeans_AKAZE.json',\n",
       " 'SVM_MiniBatchKMeans_ORB.json',\n",
       " 'SVM_MiniBatchKMeans_Resnet.json',\n",
       " 'SVM_MiniBatchKMeans_SIFT.json']"
      ]
     },
     "execution_count": 3,
     "metadata": {},
     "output_type": "execute_result"
    }
   ],
   "source": [
    "links = [link for link in os.listdir(PATH)]\n",
    "links"
   ]
  },
  {
   "cell_type": "code",
   "execution_count": 10,
   "metadata": {},
   "outputs": [
    {
     "name": "stdout",
     "output_type": "stream",
     "text": [
      "LogisticRegression_KMeans_AKAZE.json\n",
      "LogisticRegression_KMeans_ORB.json\n",
      "LogisticRegression_KMeans_SIFT.json\n",
      "LogisticRegression_MiniBatchKMeans_ORB.json\n",
      "SVM_KMeans_ORB.json\n",
      "SVM_KMeans_SIFT.json\n",
      "SVM_MiniBatchKMeans_ORB.json\n"
     ]
    },
    {
     "data": {
      "text/plain": [
       "7"
      ]
     },
     "execution_count": 10,
     "metadata": {},
     "output_type": "execute_result"
    }
   ],
   "source": [
    "k = 0\n",
    "for link in links:\n",
    "    with open(f\"{PATH}\\\\{link}\", \"r\") as file:\n",
    "        data = json.load(file)\n",
    "        if data['testing']['accurancy'] == 1.0:\n",
    "            print(link)\n",
    "            k += 1\n",
    "            \n",
    "k"
   ]
  },
  {
   "cell_type": "code",
   "execution_count": 7,
   "metadata": {},
   "outputs": [
    {
     "name": "stdout",
     "output_type": "stream",
     "text": [
      "LogisticRegression_KMeans_AKAZE.json: 1.0, other_artist, other_artist\n",
      "LogisticRegression_KMeans_ORB.json: 1.0, other_artist, other_artist\n",
      "LogisticRegression_KMeans_Resnet.json: 0.25, artist, artist\n",
      "LogisticRegression_KMeans_SIFT.json: 1.0, other_artist, other_artist\n",
      "LogisticRegression_MiniBatchKMeans_AKAZE.json: 0.875, other_artist, other_artist\n",
      "LogisticRegression_MiniBatchKMeans_ORB.json: 1.0, other_artist, other_artist\n",
      "LogisticRegression_MiniBatchKMeans_Resnet.json: 0.875, other_artist, other_artist\n",
      "LogisticRegression_MiniBatchKMeans_SIFT.json: 0.875, other_artist, other_artist\n",
      "SVM_KMeans_AKAZE.json: 0.875, other_artist, other_artist\n",
      "SVM_KMeans_ORB.json: 1.0, other_artist, other_artist\n",
      "SVM_KMeans_Resnet.json: 0.25, artist, artist\n",
      "SVM_KMeans_SIFT.json: 1.0, other_artist, other_artist\n",
      "SVM_MiniBatchKMeans_AKAZE.json: 0.875, other_artist, other_artist\n",
      "SVM_MiniBatchKMeans_ORB.json: 1.0, other_artist, other_artist\n",
      "SVM_MiniBatchKMeans_Resnet.json: 0.375, artist, artist\n",
      "SVM_MiniBatchKMeans_SIFT.json: 0.875, other_artist, other_artist\n"
     ]
    },
    {
     "data": {
      "text/plain": [
       "16"
      ]
     },
     "execution_count": 7,
     "metadata": {},
     "output_type": "execute_result"
    }
   ],
   "source": [
    "k = 0\n",
    "for link in links:\n",
    "    with open(f\"{PATH}\\\\{link}\", \"r\") as file:\n",
    "        data = json.load(file)\n",
    "        if data['result'][0] == \"artist\":\n",
    "            print(f\"{link}: {data['testing']['accurancy']}, {data['result'][1]}, {data['result'][2]}\")\n",
    "            k += 1\n",
    "            \n",
    "k"
   ]
  },
  {
   "cell_type": "code",
   "execution_count": null,
   "metadata": {},
   "outputs": [],
   "source": []
  }
 ],
 "metadata": {
  "kernelspec": {
   "display_name": "Python 3",
   "language": "python",
   "name": "python3"
  },
  "language_info": {
   "codemirror_mode": {
    "name": "ipython",
    "version": 3
   },
   "file_extension": ".py",
   "mimetype": "text/x-python",
   "name": "python",
   "nbconvert_exporter": "python",
   "pygments_lexer": "ipython3",
   "version": "3.11.9"
  }
 },
 "nbformat": 4,
 "nbformat_minor": 2
}
