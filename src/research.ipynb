{
 "cells": [
  {
   "cell_type": "markdown",
   "metadata": {},
   "source": [
    "# Исследование алгоритма BoVW для нашей задачи"
   ]
  },
  {
   "cell_type": "code",
   "execution_count": 1,
   "metadata": {},
   "outputs": [],
   "source": [
    "import numpy as np\n",
    "from numpy.typing import NDArray\n",
    "import matplotlib.pyplot as plt\n",
    "import yaml\n",
    "\n",
    "with open('config.yaml', 'r') as config:\n",
    "    cfg = yaml.safe_load(config)"
   ]
  },
  {
   "cell_type": "code",
   "execution_count": 1,
   "metadata": {},
   "outputs": [],
   "source": [
    "from BoVW.BoVW import BoVW\n",
    "from dataset.get_pictures import DatasetOperations\n",
    "from CustomDescriptors.abstract.abstract import ABSDescriptor\n",
    "from CustomDescriptors.AkazeDescriptor.AKAZE import AKAZE\n",
    "from CustomDescriptors.OrbDescriptor.ORB import ORB\n",
    "from CustomDescriptors.ResnetDescriptor.Resnet import Resnet\n",
    "from CustomDescriptors.SiftDescriptor.SIFT import SIFT\n",
    "from CustomDescriptors.FaceDescriptor.FACE import FACE\n",
    "from helper.helper import Research, Multiprocessor"
   ]
  },
  {
   "cell_type": "code",
   "execution_count": 3,
   "metadata": {},
   "outputs": [],
   "source": [
    "from sklearn.tree import DecisionTreeClassifier\n",
    "from sklearn.ensemble import RandomForestClassifier, BaggingClassifier, GradientBoostingClassifier\n",
    "from sklearn.svm import SVC\n",
    "from sklearn.linear_model import LogisticRegression\n",
    "from sklearn.cluster import KMeans, MiniBatchKMeans, SpectralBiclustering, Birch"
   ]
  },
  {
   "cell_type": "code",
   "execution_count": 2,
   "metadata": {},
   "outputs": [],
   "source": [
    "DatasetOperations.clear()"
   ]
  },
  {
   "cell_type": "code",
   "execution_count": 7,
   "metadata": {},
   "outputs": [
    {
     "name": "stdout",
     "output_type": "stream",
     "text": [
      "скопировано 20 картинок в train\n"
     ]
    }
   ],
   "source": [
    "Research.add_train_dataset(percentage=20, scale=True, resolution=\"low\")"
   ]
  },
  {
   "cell_type": "code",
   "execution_count": 6,
   "metadata": {},
   "outputs": [
    {
     "ename": "KeyboardInterrupt",
     "evalue": "",
     "output_type": "error",
     "traceback": [
      "\u001b[1;31m---------------------------------------------------------------------------\u001b[0m",
      "\u001b[1;31mKeyboardInterrupt\u001b[0m                         Traceback (most recent call last)",
      "Cell \u001b[1;32mIn[6], line 4\u001b[0m\n\u001b[0;32m      1\u001b[0m Research\u001b[38;5;241m.\u001b[39msafe(\n\u001b[0;32m      2\u001b[0m     \u001b[38;5;124m\"\u001b[39m\u001b[38;5;124mtest\u001b[39m\u001b[38;5;124m\"\u001b[39m,\n\u001b[0;32m      3\u001b[0m     Research\u001b[38;5;241m.\u001b[39mtest(\n\u001b[1;32m----> 4\u001b[0m         \u001b[43mResearch\u001b[49m\u001b[38;5;241;43m.\u001b[39;49m\u001b[43mtrain\u001b[49m\u001b[43m(\u001b[49m\u001b[43mclf\u001b[49m\u001b[38;5;241;43m=\u001b[39;49m\u001b[43mBaggingClassifier\u001b[49m\u001b[43m(\u001b[49m\u001b[43m)\u001b[49m\u001b[43m,\u001b[49m\n\u001b[0;32m      5\u001b[0m \u001b[43m                       \u001b[49m\u001b[43mcluster\u001b[49m\u001b[38;5;241;43m=\u001b[39;49m\u001b[43mBirch\u001b[49m\u001b[43m(\u001b[49m\u001b[43mn_clusters\u001b[49m\u001b[38;5;241;43m=\u001b[39;49m\u001b[38;5;241;43m20\u001b[39;49m\u001b[43m)\u001b[49m\u001b[43m,\u001b[49m\n\u001b[0;32m      6\u001b[0m \u001b[43m                       \u001b[49m\u001b[43mdescriptor\u001b[49m\u001b[38;5;241;43m=\u001b[39;49m\u001b[43mFACE\u001b[49m\u001b[43m(\u001b[49m\u001b[43mpredictor_path\u001b[49m\u001b[38;5;241;43m=\u001b[39;49m\u001b[43mcfg\u001b[49m\u001b[43m[\u001b[49m\u001b[38;5;124;43m'\u001b[39;49m\u001b[38;5;124;43mVictor\u001b[39;49m\u001b[38;5;124;43m'\u001b[39;49m\u001b[43m]\u001b[49m\u001b[43m[\u001b[49m\u001b[38;5;124;43m'\u001b[39;49m\u001b[38;5;124;43mFACE\u001b[39;49m\u001b[38;5;124;43m'\u001b[39;49m\u001b[43m]\u001b[49m\u001b[43m)\u001b[49m\u001b[43m,\u001b[49m\n\u001b[0;32m      7\u001b[0m \u001b[43m                       \u001b[49m\u001b[43mscale\u001b[49m\u001b[38;5;241;43m=\u001b[39;49m\u001b[38;5;28;43;01mFalse\u001b[39;49;00m\u001b[43m,\u001b[49m\n\u001b[0;32m      8\u001b[0m \u001b[43m                       \u001b[49m\u001b[43mnumber_words\u001b[49m\u001b[38;5;241;43m=\u001b[39;49m\u001b[38;5;241;43m20\u001b[39;49m\n\u001b[0;32m      9\u001b[0m \u001b[43m                       \u001b[49m\u001b[43m)\u001b[49m\n\u001b[0;32m     10\u001b[0m     )\n\u001b[0;32m     11\u001b[0m )\n",
      "File \u001b[1;32mc:\\home_screen\\programming\\algoritm and data structure\\ArtForgeryDetection\\src\\helper\\helper.py:45\u001b[0m, in \u001b[0;36mResearch.train\u001b[1;34m(descriptor, cluster, number_words, clf, scale)\u001b[0m\n\u001b[0;32m     36\u001b[0m bovw \u001b[38;5;241m=\u001b[39m BoVW(\n\u001b[0;32m     37\u001b[0m     descriptor\u001b[38;5;241m=\u001b[39mdescriptor,\n\u001b[0;32m     38\u001b[0m     cluster\u001b[38;5;241m=\u001b[39mcluster,\n\u001b[1;32m   (...)\u001b[0m\n\u001b[0;32m     41\u001b[0m     scale\u001b[38;5;241m=\u001b[39mscale\n\u001b[0;32m     42\u001b[0m )\n\u001b[0;32m     43\u001b[0m bovw\u001b[38;5;241m.\u001b[39madd_train_dataset(\u001b[38;5;124m\"\u001b[39m\u001b[38;5;124mdataset/train\u001b[39m\u001b[38;5;124m\"\u001b[39m)\n\u001b[1;32m---> 45\u001b[0m \u001b[43mbovw\u001b[49m\u001b[38;5;241;43m.\u001b[39;49m\u001b[43mmodel_training\u001b[49m\u001b[43m(\u001b[49m\u001b[43m)\u001b[49m\n\u001b[0;32m     47\u001b[0m \u001b[38;5;28;01mreturn\u001b[39;00m bovw\n",
      "File \u001b[1;32mc:\\home_screen\\programming\\algoritm and data structure\\ArtForgeryDetection\\src\\BoVW\\BoVW.py:55\u001b[0m, in \u001b[0;36mBoVW.model_training\u001b[1;34m(self)\u001b[0m\n\u001b[0;32m     54\u001b[0m \u001b[38;5;28;01mdef\u001b[39;00m \u001b[38;5;21mmodel_training\u001b[39m(\u001b[38;5;28mself\u001b[39m) \u001b[38;5;241m-\u001b[39m\u001b[38;5;241m>\u001b[39m \u001b[38;5;28;01mNone\u001b[39;00m:\n\u001b[1;32m---> 55\u001b[0m     descriptor_list \u001b[38;5;241m=\u001b[39m \u001b[38;5;28;43mself\u001b[39;49m\u001b[38;5;241;43m.\u001b[39;49m\u001b[43m_get_descriptor_list\u001b[49m\u001b[43m(\u001b[49m\u001b[43m)\u001b[49m\n\u001b[0;32m     56\u001b[0m     descriptors \u001b[38;5;241m=\u001b[39m descriptor_list[\u001b[38;5;241m0\u001b[39m][\u001b[38;5;241m1\u001b[39m]\n\u001b[0;32m     58\u001b[0m     \u001b[38;5;28;01mfor\u001b[39;00m _, descriptor \u001b[38;5;129;01min\u001b[39;00m descriptor_list[\u001b[38;5;241m1\u001b[39m:]:\n",
      "File \u001b[1;32mc:\\home_screen\\programming\\algoritm and data structure\\ArtForgeryDetection\\src\\BoVW\\BoVW.py:127\u001b[0m, in \u001b[0;36mBoVW._get_descriptor_list\u001b[1;34m(self)\u001b[0m\n\u001b[0;32m    126\u001b[0m \u001b[38;5;28;01mdef\u001b[39;00m \u001b[38;5;21m_get_descriptor_list\u001b[39m(\u001b[38;5;28mself\u001b[39m) \u001b[38;5;241m-\u001b[39m\u001b[38;5;241m>\u001b[39m \u001b[38;5;28mlist\u001b[39m:\n\u001b[1;32m--> 127\u001b[0m     descriptor_list \u001b[38;5;241m=\u001b[39m \u001b[38;5;28;43mself\u001b[39;49m\u001b[38;5;241;43m.\u001b[39;49m\u001b[43m_parallel_function\u001b[49m\u001b[43m(\u001b[49m\u001b[38;5;28;43mself\u001b[39;49m\u001b[38;5;241;43m.\u001b[39;49m\u001b[43m_image_paths\u001b[49m\u001b[43m,\u001b[49m\u001b[43m \u001b[49m\u001b[38;5;28;43mself\u001b[39;49m\u001b[38;5;241;43m.\u001b[39;49m\u001b[43m_get_descriptor\u001b[49m\u001b[43m)\u001b[49m\n\u001b[0;32m    128\u001b[0m     \u001b[38;5;28;01mfor\u001b[39;00m k, descriptor \u001b[38;5;129;01min\u001b[39;00m \u001b[38;5;28menumerate\u001b[39m(descriptor_list):\n\u001b[0;32m    129\u001b[0m         descriptor_list[k] \u001b[38;5;241m=\u001b[39m [\u001b[38;5;28mself\u001b[39m\u001b[38;5;241m.\u001b[39m_image_classes[k], descriptor]\n",
      "File \u001b[1;32mc:\\home_screen\\programming\\algoritm and data structure\\ArtForgeryDetection\\src\\BoVW\\BoVW.py:257\u001b[0m, in \u001b[0;36mBoVW._parallel_function\u001b[1;34m(self, data, function)\u001b[0m\n\u001b[0;32m    255\u001b[0m element \u001b[38;5;241m=\u001b[39m \u001b[38;5;28;01mNone\u001b[39;00m\n\u001b[0;32m    256\u001b[0m \u001b[38;5;28;01mwhile\u001b[39;00m k \u001b[38;5;241m<\u001b[39m \u001b[38;5;28mlen\u001b[39m(data):\n\u001b[1;32m--> 257\u001b[0m     \u001b[38;5;28;01mif\u001b[39;00m \u001b[38;5;129;01mnot\u001b[39;00m \u001b[43moutput_queue\u001b[49m\u001b[38;5;241;43m.\u001b[39;49m\u001b[43mempty\u001b[49m\u001b[43m(\u001b[49m\u001b[43m)\u001b[49m:\n\u001b[0;32m    258\u001b[0m         key, element \u001b[38;5;241m=\u001b[39m output_queue\u001b[38;5;241m.\u001b[39mget()\n\u001b[0;32m    259\u001b[0m         new_data[key] \u001b[38;5;241m=\u001b[39m element\n",
      "File \u001b[1;32mc:\\Users\\kolos\\AppData\\Local\\Programs\\Python\\Python311\\Lib\\multiprocessing\\queues.py:129\u001b[0m, in \u001b[0;36mQueue.empty\u001b[1;34m(self)\u001b[0m\n\u001b[0;32m    128\u001b[0m \u001b[38;5;28;01mdef\u001b[39;00m \u001b[38;5;21mempty\u001b[39m(\u001b[38;5;28mself\u001b[39m):\n\u001b[1;32m--> 129\u001b[0m     \u001b[38;5;28;01mreturn\u001b[39;00m \u001b[38;5;129;01mnot\u001b[39;00m \u001b[38;5;28;43mself\u001b[39;49m\u001b[38;5;241;43m.\u001b[39;49m\u001b[43m_poll\u001b[49m\u001b[43m(\u001b[49m\u001b[43m)\u001b[49m\n",
      "File \u001b[1;32mc:\\Users\\kolos\\AppData\\Local\\Programs\\Python\\Python311\\Lib\\multiprocessing\\connection.py:257\u001b[0m, in \u001b[0;36m_ConnectionBase.poll\u001b[1;34m(self, timeout)\u001b[0m\n\u001b[0;32m    255\u001b[0m \u001b[38;5;28mself\u001b[39m\u001b[38;5;241m.\u001b[39m_check_closed()\n\u001b[0;32m    256\u001b[0m \u001b[38;5;28mself\u001b[39m\u001b[38;5;241m.\u001b[39m_check_readable()\n\u001b[1;32m--> 257\u001b[0m \u001b[38;5;28;01mreturn\u001b[39;00m \u001b[38;5;28;43mself\u001b[39;49m\u001b[38;5;241;43m.\u001b[39;49m\u001b[43m_poll\u001b[49m\u001b[43m(\u001b[49m\u001b[43mtimeout\u001b[49m\u001b[43m)\u001b[49m\n",
      "File \u001b[1;32mc:\\Users\\kolos\\AppData\\Local\\Programs\\Python\\Python311\\Lib\\multiprocessing\\connection.py:346\u001b[0m, in \u001b[0;36mPipeConnection._poll\u001b[1;34m(self, timeout)\u001b[0m\n\u001b[0;32m    343\u001b[0m \u001b[38;5;28;01mif\u001b[39;00m (\u001b[38;5;28mself\u001b[39m\u001b[38;5;241m.\u001b[39m_got_empty_message \u001b[38;5;129;01mor\u001b[39;00m\n\u001b[0;32m    344\u001b[0m             _winapi\u001b[38;5;241m.\u001b[39mPeekNamedPipe(\u001b[38;5;28mself\u001b[39m\u001b[38;5;241m.\u001b[39m_handle)[\u001b[38;5;241m0\u001b[39m] \u001b[38;5;241m!=\u001b[39m \u001b[38;5;241m0\u001b[39m):\n\u001b[0;32m    345\u001b[0m     \u001b[38;5;28;01mreturn\u001b[39;00m \u001b[38;5;28;01mTrue\u001b[39;00m\n\u001b[1;32m--> 346\u001b[0m \u001b[38;5;28;01mreturn\u001b[39;00m \u001b[38;5;28mbool\u001b[39m(\u001b[43mwait\u001b[49m\u001b[43m(\u001b[49m\u001b[43m[\u001b[49m\u001b[38;5;28;43mself\u001b[39;49m\u001b[43m]\u001b[49m\u001b[43m,\u001b[49m\u001b[43m \u001b[49m\u001b[43mtimeout\u001b[49m\u001b[43m)\u001b[49m)\n",
      "File \u001b[1;32mc:\\Users\\kolos\\AppData\\Local\\Programs\\Python\\Python311\\Lib\\multiprocessing\\connection.py:900\u001b[0m, in \u001b[0;36mwait\u001b[1;34m(object_list, timeout)\u001b[0m\n\u001b[0;32m    897\u001b[0m \u001b[38;5;28;01mfinally\u001b[39;00m:\n\u001b[0;32m    898\u001b[0m     \u001b[38;5;66;03m# request that overlapped reads stop\u001b[39;00m\n\u001b[0;32m    899\u001b[0m     \u001b[38;5;28;01mfor\u001b[39;00m ov \u001b[38;5;129;01min\u001b[39;00m ov_list:\n\u001b[1;32m--> 900\u001b[0m         ov\u001b[38;5;241m.\u001b[39mcancel()\n\u001b[0;32m    902\u001b[0m     \u001b[38;5;66;03m# wait for all overlapped reads to stop\u001b[39;00m\n\u001b[0;32m    903\u001b[0m     \u001b[38;5;28;01mfor\u001b[39;00m ov \u001b[38;5;129;01min\u001b[39;00m ov_list:\n",
      "\u001b[1;31mKeyboardInterrupt\u001b[0m: "
     ]
    }
   ],
   "source": [
    "Research.safe(\n",
    "    \"test\",\n",
    "    Research.test(\n",
    "        Research.train(\n",
    "            clf=BaggingClassifier(),\n",
    "            cluster=Birch(\n",
    "                n_clusters=20\n",
    "                ),\n",
    "            descriptor=FACE(\n",
    "                predictor_path=cfg['Victor']['FACE']\n",
    "                ),\n",
    "            scale=False,\n",
    "            number_words=20\n",
    "        )\n",
    "    )\n",
    ")"
   ]
  },
  {
   "cell_type": "code",
   "execution_count": 9,
   "metadata": {},
   "outputs": [
    {
     "name": "stderr",
     "output_type": "stream",
     "text": [
      "WARNING:absl:You are saving your model as an HDF5 file via `model.save()` or `keras.saving.save_model(model)`. This file format is considered legacy. We recommend using instead the native Keras format, e.g. `model.save('my_model.keras')` or `keras.saving.save_model(model, 'my_model.keras')`. \n"
     ]
    }
   ],
   "source": [
    "clfs = {\n",
    "    \"RandomForest\": RandomForestClassifier(),\n",
    "    \"Bagging\": BaggingClassifier(),\n",
    "    \"GradientBoosting\": GradientBoostingClassifier(),\n",
    "    \"SVM\": SVC(),\n",
    "    \"LogisticRegression\": LogisticRegression(),\n",
    "}\n",
    "\n",
    "clusters = {\n",
    "    \"KMeans\": KMeans(n_clusters=200),\n",
    "    \"MiniBatchKMeans\": MiniBatchKMeans(n_clusters=200),\n",
    "    \"Birch\": Birch(n_clusters=200),\n",
    "    \"SpectralBiclustering\": SpectralBiclustering(n_clusters=200)\n",
    "}\n",
    "\n",
    "descriptors = {\n",
    "    \"ORB\": ORB(),\n",
    "    \"AKAZE\": AKAZE(),\n",
    "    \"Resnet\": Resnet(),\n",
    "    \"SIFT\" : SIFT(cfg['Victor']['Dataset'])\n",
    "}"
   ]
  },
  {
   "cell_type": "code",
   "execution_count": 4,
   "metadata": {},
   "outputs": [
    {
     "ename": "NameError",
     "evalue": "name 'clfs' is not defined",
     "output_type": "error",
     "traceback": [
      "\u001b[1;31m---------------------------------------------------------------------------\u001b[0m",
      "\u001b[1;31mNameError\u001b[0m                                 Traceback (most recent call last)",
      "Cell \u001b[1;32mIn[4], line 1\u001b[0m\n\u001b[1;32m----> 1\u001b[0m \u001b[38;5;28;01mfor\u001b[39;00m name_clf, clf \u001b[38;5;129;01min\u001b[39;00m \u001b[43mclfs\u001b[49m\u001b[38;5;241m.\u001b[39mitems():\n\u001b[0;32m      2\u001b[0m     \u001b[38;5;28;01mfor\u001b[39;00m name_cluster, cluster \u001b[38;5;129;01min\u001b[39;00m clusters\u001b[38;5;241m.\u001b[39mitems():\n\u001b[0;32m      3\u001b[0m         \u001b[38;5;28;01mfor\u001b[39;00m name_descriptor, descriptor \u001b[38;5;129;01min\u001b[39;00m descriptors\u001b[38;5;241m.\u001b[39mitems():\n",
      "\u001b[1;31mNameError\u001b[0m: name 'clfs' is not defined"
     ]
    }
   ],
   "source": [
    "for name_clf, clf in clfs.items():\n",
    "    for name_cluster, cluster in clusters.items():\n",
    "        for name_descriptor, descriptor in descriptors.items():\n",
    "            Research.safe(\n",
    "                f\"{name_clf}_{name_cluster}_{name_descriptor}\",\n",
    "                Research.test(\n",
    "                    Research.train(\n",
    "                        clf=clf,\n",
    "                        descriptor=descriptor,\n",
    "                        cluster=cluster,\n",
    "                        scale=False,\n",
    "                        number_words=200\n",
    "                    )\n",
    "                )\n",
    "                \n",
    "            )"
   ]
  }
 ],
 "metadata": {
  "kernelspec": {
   "display_name": "Python 3",
   "language": "python",
   "name": "python3"
  },
  "language_info": {
   "codemirror_mode": {
    "name": "ipython",
    "version": 3
   },
   "file_extension": ".py",
   "mimetype": "text/x-python",
   "name": "python",
   "nbconvert_exporter": "python",
   "pygments_lexer": "ipython3",
   "version": "3.11.9"
  }
 },
 "nbformat": 4,
 "nbformat_minor": 2
}
