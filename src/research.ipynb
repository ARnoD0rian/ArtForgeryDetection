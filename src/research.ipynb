{
 "cells": [
  {
   "cell_type": "markdown",
   "metadata": {},
   "source": [
    "# Исследование алгоритма BoVW для нашей задачи"
   ]
  },
  {
   "cell_type": "code",
   "execution_count": 2,
   "metadata": {},
   "outputs": [],
   "source": [
    "import numpy as np\n",
    "from numpy.typing import NDArray\n",
    "import matplotlib.pyplot as plt\n",
    "import yaml\n",
    "from sklearn.cluster import KMeans\n",
    "from sklearn.svm import LinearSVC\n",
    "\n",
    "with open('config.yaml', 'r') as config:\n",
    "    cfg = yaml.safe_load(config)"
   ]
  },
  {
   "cell_type": "code",
   "execution_count": 3,
   "metadata": {},
   "outputs": [],
   "source": [
    "from BoVW.BoVW import BoVW\n",
    "from dataset.get_pictures import DatasetOperations\n",
    "from CustomDescriptors.abstract.abstract import ABSDescriptor\n",
    "from CustomDescriptors.AkazeDescriptor.AKAZE import AKAZE\n",
    "from CustomDescriptors.OrbDescriptor.ORB import ORB\n",
    "from CustomDescriptors.ResnetDescriptor.Resnet import Resnet\n",
    "from CustomDescriptors.SiftDescriptor.SIFT import SIFT\n",
    "from helper.helper import Research, Multiprocessor"
   ]
  },
  {
   "cell_type": "code",
   "execution_count": 17,
   "metadata": {},
   "outputs": [],
   "source": [
    "from sklearn.tree import DecisionTreeClassifier\n",
    "from sklearn.ensemble import RandomForestClassifier, BaggingClassifier, HistGradientBoostingClassifier, GradientBoostingClassifier\n",
    "from sklearn.svm import SVC\n",
    "from sklearn.linear_model import LogisticRegression\n",
    "from sklearn.naive_bayes import GaussianNB\n",
    "from sklearn.discriminant_analysis import LinearDiscriminantAnalysis\n",
    "from sklearn.neighbors import KNeighborsClassifier\n",
    "from sklearn.cluster import DBSCAN, KMeans, MiniBatchKMeans, AffinityPropagation, MeanShift, SpectralBiclustering, OPTICS, Birch\n"
   ]
  },
  {
   "cell_type": "code",
   "execution_count": 1,
   "metadata": {},
   "outputs": [
    {
     "ename": "NameError",
     "evalue": "name 'DatasetOperations' is not defined",
     "output_type": "error",
     "traceback": [
      "\u001b[1;31m---------------------------------------------------------------------------\u001b[0m",
      "\u001b[1;31mNameError\u001b[0m                                 Traceback (most recent call last)",
      "Cell \u001b[1;32mIn[1], line 1\u001b[0m\n\u001b[1;32m----> 1\u001b[0m \u001b[43mDatasetOperations\u001b[49m\u001b[38;5;241m.\u001b[39mclear()\n",
      "\u001b[1;31mNameError\u001b[0m: name 'DatasetOperations' is not defined"
     ]
    }
   ],
   "source": [
    "DatasetOperations.clear()"
   ]
  },
  {
   "cell_type": "code",
   "execution_count": 15,
   "metadata": {},
   "outputs": [
    {
     "name": "stdout",
     "output_type": "stream",
     "text": [
      "скопировано 66 картинок в train\n"
     ]
    }
   ],
   "source": [
    "Research.add_train_dataset(percentage=10)"
   ]
  },
  {
   "cell_type": "code",
   "execution_count": 18,
   "metadata": {},
   "outputs": [
    {
     "name": "stdout",
     "output_type": "stream",
     "text": [
      "found 82 keypoints\n",
      "found 175 keypoints\n",
      "found 80 keypoints\n",
      "found 173 keypoints\n",
      "found 199 keypoints\n"
     ]
    }
   ],
   "source": [
    "Research.safe(\n",
    "    \"test\",\n",
    "    Research.test(\n",
    "        Research.train(clf=DecisionTreeClassifier(min_samples_leaf=30, max_depth=5))\n",
    "    )\n",
    ")"
   ]
  }
 ],
 "metadata": {
  "kernelspec": {
   "display_name": "Python 3",
   "language": "python",
   "name": "python3"
  },
  "language_info": {
   "codemirror_mode": {
    "name": "ipython",
    "version": 3
   },
   "file_extension": ".py",
   "mimetype": "text/x-python",
   "name": "python",
   "nbconvert_exporter": "python",
   "pygments_lexer": "ipython3",
   "version": "3.11.9"
  }
 },
 "nbformat": 4,
 "nbformat_minor": 2
}
